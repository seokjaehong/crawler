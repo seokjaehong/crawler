{
 "cells": [
  {
   "cell_type": "code",
   "execution_count": 3,
   "metadata": {},
   "outputs": [],
   "source": [
    "source ='''<li>\n",
    "<div class=\"wrap_atist12\">\n",
    "<a class=\"thumb\" href=\"javascript:searchLog('web_artist','ARTIST','AR','아이유','261143');melon.link.goArtistDetail('261143');\" title=\"아이유 - 페이지 이동\">\n",
    "<span class=\"thumb_frame\"></span>\n",
    "<img alt=\"\" height=\"120\" onerror=\"WEBPOCIMG.defaultArtistImg(this);\" src=\"http://cdnimg.melon.co.kr/cm/artistcrop/images/002/61/143/261143_500.jpg?8278b340c081cd2bd020bff2d632329f/melon/resize/240/quality/80/optimize\" width=\"120\"/>\n",
    "</a>\n",
    "<div class=\"atist_info\">\n",
    "<dl>\n",
    "<dt>\n",
    "<strong class=\"none\">아티스트명</strong>\n",
    "<a class=\"ellipsis\" href=\"javascript:searchLog('web_artist','ARTIST','AR','아이유','261143');melon.link.goArtistDetail('261143');\" title=\"아이유 - 페이지 이동\"><b>아이유</b></a>\n",
    "</dt>\n",
    "<dd class=\"gubun\">\n",
    "\t\t\t\t\t\t\t\t대한민국/여성/솔로\n",
    "\t\t\t\t\t\t\t</dd>\n",
    "<dd class=\"gnr\">\n",
    "<strong class=\"none\">음악장르</strong>\n",
    "<div class=\"ellipsis fc_strong\">\n",
    "<span>Ballad</span>, <span>Dance</span>, <span>Drama</span>\n",
    "</div>\n",
    "</dd>\n",
    "<dd class=\"btn_play\">\n",
    "<a class=\"btn_play_song\" href=\"javascript:;\" onclick=\"searchLog('web_artist','ARTIST','SO','아이유','261143');melon.play.playSong('26020102',30646585);\" title=\"잠 못 드는 밤 비는 내리고 재생 - 새 창\">\n",
    "<span class=\"icon_play\">곡재생</span>\n",
    "<span class=\"songname12\">잠 못 드는 밤 비는 내리고</span>\n",
    "</a>\n",
    "</dd>\n",
    "<dd class=\"wrap_btn\">\n",
    "<button class=\"btn_join_fan\" data-artist-menuid=\"26020102\" data-artist-no=\"261143\" name=\"likeFan_261143\" onclick=\"searchLog('web_artist','ARTIST','AR','아이유','261143');\" title=\"아이유 팬맺기\" type=\"button\"><span class=\"odd_span\">팬</span></button><span class=\"cnt_fan\"><span class=\"cnt_span\" id=\"d_fan_cnt_261143\">0</span></span>\n",
    "<input name=\"artistId\" type=\"hidden\" value=\"261143\"/>\n",
    "</dd>\n",
    "</dl>\n",
    "</div>\n",
    "</div><!-- //class=\"wrap_atist12\" -->\n",
    "</li>\n",
    "'''"
   ]
  },
  {
   "cell_type": "code",
   "execution_count": 18,
   "metadata": {},
   "outputs": [
    {
     "ename": "TypeError",
     "evalue": "find() takes no keyword arguments",
     "output_type": "error",
     "traceback": [
      "\u001b[0;31m---------------------------------------------------------------------------\u001b[0m",
      "\u001b[0;31mTypeError\u001b[0m                                 Traceback (most recent call last)",
      "\u001b[0;32m<ipython-input-18-4d3117042081>\u001b[0m in \u001b[0;36m<module>\u001b[0;34m()\u001b[0m\n\u001b[1;32m      1\u001b[0m \u001b[0;32mfor\u001b[0m \u001b[0mtr\u001b[0m \u001b[0;32min\u001b[0m \u001b[0msource\u001b[0m\u001b[0;34m:\u001b[0m\u001b[0;34m\u001b[0m\u001b[0m\n\u001b[0;32m----> 2\u001b[0;31m        \u001b[0martist_info\u001b[0m\u001b[0;34m=\u001b[0m \u001b[0mtr\u001b[0m\u001b[0;34m.\u001b[0m\u001b[0mfind\u001b[0m\u001b[0;34m(\u001b[0m\u001b[0;34m'div'\u001b[0m\u001b[0;34m,\u001b[0m\u001b[0mclass_\u001b[0m\u001b[0;34m=\u001b[0m\u001b[0;34m'atlist_info'\u001b[0m\u001b[0;34m)\u001b[0m\u001b[0;34m.\u001b[0m\u001b[0mtext\u001b[0m\u001b[0;34m(\u001b[0m\u001b[0;34m)\u001b[0m\u001b[0;34m\u001b[0m\u001b[0m\n\u001b[0m",
      "\u001b[0;31mTypeError\u001b[0m: find() takes no keyword arguments"
     ]
    }
   ],
   "source": [
    " for tr in source:\n",
    "        artist_info= tr.find('div',class_='atlist_info').text()   "
   ]
  },
  {
   "cell_type": "code",
   "execution_count": 19,
   "metadata": {},
   "outputs": [],
   "source": [
    "\n",
    "import os\n",
    "import requests\n",
    "from bs4 import BeautifulSoup, NavigableString\n"
   ]
  },
  {
   "cell_type": "code",
   "execution_count": 21,
   "metadata": {},
   "outputs": [],
   "source": [
    "import re\n"
   ]
  },
  {
   "cell_type": "code",
   "execution_count": 120,
   "metadata": {},
   "outputs": [],
   "source": [
    "source ='''<a class=\"thumb\" href=\"javascript:searchLog('web_artist','ARTIST','AR','아이유','261143');melon.link.goArtistDetail('261143');\" title=\"아이유 - 페이지 이동\">\n",
    "<span class=\"thumb_frame\"></span>\n",
    "<img alt=\"\" height=\"120\" onerror=\"WEBPOCIMG.defaultArtistImg(this);\" src=\"http://cdnimg.melon.co.kr/cm/artistcrop/images/002/61/143/261143_500.jpg?8278b340c081cd2bd020bff2d632329f/melon/resize/240/quality/80/optimize\" width=\"120\"/>\n",
    "</a>'''"
   ]
  },
  {
   "cell_type": "code",
   "execution_count": 124,
   "metadata": {},
   "outputs": [
    {
     "name": "stdout",
     "output_type": "stream",
     "text": [
      "261143\n"
     ]
    }
   ],
   "source": [
    "#r1 = re.compile(r'.*?\\;.*?\\(\\'(.*?)\\'\\)', re.DOTALL)\n",
    "r1 = re.compile(r'.*?\\;.*?\\'(\\d.*)\\'', re.DOTALL)\n",
    "#r1 = re.compile(\".*?\\((.*?)\\)\", re.DOTALL)\n",
    "#r1 = re.compile(r\"(.*?)\\;\")\n",
    "songname = re.search(r1, source).group(1)\n",
    "\n",
    "print(songname)"
   ]
  },
  {
   "cell_type": "code",
   "execution_count": null,
   "metadata": {},
   "outputs": [],
   "source": []
  }
 ],
 "metadata": {
  "kernelspec": {
   "display_name": "Python 3",
   "language": "python",
   "name": "python3"
  },
  "language_info": {
   "codemirror_mode": {
    "name": "ipython",
    "version": 3
   },
   "file_extension": ".py",
   "mimetype": "text/x-python",
   "name": "python",
   "nbconvert_exporter": "python",
   "pygments_lexer": "ipython3",
   "version": "3.6.4"
  }
 },
 "nbformat": 4,
 "nbformat_minor": 2
}
