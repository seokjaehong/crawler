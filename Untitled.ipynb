{
 "cells": [
  {
   "cell_type": "code",
   "execution_count": 3,
   "metadata": {},
   "outputs": [],
   "source": []
  },
  {
   "cell_type": "code",
   "execution_count": 18,
   "metadata": {},
   "outputs": [
    {
     "ename": "TypeError",
     "evalue": "find() takes no keyword arguments",
     "output_type": "error",
     "traceback": [
      "\u001b[0;31m---------------------------------------------------------------------------\u001b[0m",
      "\u001b[0;31mTypeError\u001b[0m                                 Traceback (most recent call last)",
      "\u001b[0;32m<ipython-input-18-4d3117042081>\u001b[0m in \u001b[0;36m<module>\u001b[0;34m()\u001b[0m\n\u001b[1;32m      1\u001b[0m \u001b[0;32mfor\u001b[0m \u001b[0mtr\u001b[0m \u001b[0;32min\u001b[0m \u001b[0msource\u001b[0m\u001b[0;34m:\u001b[0m\u001b[0;34m\u001b[0m\u001b[0m\n\u001b[0;32m----> 2\u001b[0;31m        \u001b[0martist_info\u001b[0m\u001b[0;34m=\u001b[0m \u001b[0mtr\u001b[0m\u001b[0;34m.\u001b[0m\u001b[0mfind\u001b[0m\u001b[0;34m(\u001b[0m\u001b[0;34m'div'\u001b[0m\u001b[0;34m,\u001b[0m\u001b[0mclass_\u001b[0m\u001b[0;34m=\u001b[0m\u001b[0;34m'atlist_info'\u001b[0m\u001b[0;34m)\u001b[0m\u001b[0;34m.\u001b[0m\u001b[0mtext\u001b[0m\u001b[0;34m(\u001b[0m\u001b[0;34m)\u001b[0m\u001b[0;34m\u001b[0m\u001b[0m\n\u001b[0m",
      "\u001b[0;31mTypeError\u001b[0m: find() takes no keyword arguments"
     ]
    }
   ],
   "source": [
    " for tr in source:\n",
    "        artist_info= tr.find('div',class_='atlist_info').text()   "
   ]
  },
  {
   "cell_type": "code",
   "execution_count": 19,
   "metadata": {},
   "outputs": [],
   "source": [
    "\n",
    "import os\n",
    "import requests\n",
    "from bs4 import BeautifulSoup, NavigableString\n"
   ]
  },
  {
   "cell_type": "code",
   "execution_count": 21,
   "metadata": {},
   "outputs": [],
   "source": [
    "import re\n"
   ]
  },
  {
   "cell_type": "code",
   "execution_count": 120,
   "metadata": {},
   "outputs": [],
   "source": [
    "source ='''<a class=\"thumb\" href=\"javascript:searchLog('web_artist','ARTIST','AR','아이유','261143');melon.link.goArtistDetail('261143');\" title=\"아이유 - 페이지 이동\">\n",
    "<span class=\"thumb_frame\"></span>\n",
    "<img alt=\"\" height=\"120\" onerror=\"WEBPOCIMG.defaultArtistImg(this);\" src=\"http://cdnimg.melon.co.kr/cm/artistcrop/images/002/61/143/261143_500.jpg?8278b340c081cd2bd020bff2d632329f/melon/resize/240/quality/80/optimize\" width=\"120\"/>\n",
    "</a>'''"
   ]
  },
  {
   "cell_type": "code",
   "execution_count": 124,
   "metadata": {},
   "outputs": [
    {
     "name": "stdout",
     "output_type": "stream",
     "text": [
      "261143\n"
     ]
    }
   ],
   "source": [
    "#r1 = re.compile(r'.*?\\;.*?\\(\\'(.*?)\\'\\)', re.DOTALL)\n",
    "r1 = re.compile(r'.*?\\;.*?\\'(\\d.*)\\'', re.DOTALL)\n",
    "#r1 = re.compile(\".*?\\((.*?)\\)\", re.DOTALL)\n",
    "#r1 = re.compile(r\"(.*?)\\;\")\n",
    "songname = re.search(r1, source).group(1)\n",
    "\n",
    "print(songname)"
   ]
  },
  {
   "cell_type": "code",
   "execution_count": 2,
   "metadata": {},
   "outputs": [],
   "source": [
    "source ='''<dl class=\"atist_info clfix\">\n",
    "<dt>데뷔</dt>\n",
    "<dd>\n",
    "<span class=\"gubun\">2008.09.18</span>\n",
    "<a class=\"btn_play_song\" href=\"javascript:;\" onclick=\"javascript:melon.play.playSong('27090101',1929324);\" title=\"미아 재생\">\n",
    "<span class=\"icon_play\">곡재생</span>\n",
    "<span class=\"songname12\">미아</span>\n",
    "</a>\n",
    "</dd>\n",
    "<dt>생일</dt>\n",
    "<dd>1993.05.16</dd>\n",
    "<dt>활동유형</dt>\n",
    "<dd>솔로</dd>\n",
    "<dt>소속사</dt>\n",
    "<dd>(주)로엔엔터테인먼트</dd>\n",
    "<dt>수상이력</dt>\n",
    "<dd class=\"awarded\">\n",
    "<span class=\"ellipsis\">2017 하이원 서울가요대상<span class=\"bar\">|</span>최고 앨범상</span>\n",
    "<a class=\"btn_text arrow_r\" href=\"javascript:melon.link.goArtistDetail('261143', '2');\" title=\"아이유 상세정보 더보기\">\n",
    "<span class=\"text\">더보기</span>\n",
    "<span class=\"icon\"></span>\n",
    "</a>\n",
    "</dd>\n",
    "</dl>'''\n"
   ]
  },
  {
   "cell_type": "code",
   "execution_count": null,
   "metadata": {},
   "outputs": [],
   "source": []
  }
 ],
 "metadata": {
  "kernelspec": {
   "display_name": "Python 3",
   "language": "python",
   "name": "python3"
  },
  "language_info": {
   "codemirror_mode": {
    "name": "ipython",
    "version": 3
   },
   "file_extension": ".py",
   "mimetype": "text/x-python",
   "name": "python",
   "nbconvert_exporter": "python",
   "pygments_lexer": "ipython3",
   "version": "3.6.4"
  }
 },
 "nbformat": 4,
 "nbformat_minor": 2
}
